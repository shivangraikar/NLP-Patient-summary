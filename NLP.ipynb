{
  "nbformat": 4,
  "nbformat_minor": 0,
  "metadata": {
    "colab": {
      "name": "NLP.ipynb",
      "provenance": [],
      "collapsed_sections": []
    },
    "kernelspec": {
      "display_name": "Python 3",
      "name": "python3"
    }
  },
  "cells": [
    {
      "cell_type": "markdown",
      "metadata": {
        "id": "pfVZzyQSRfNB"
      },
      "source": [
        "NLP Project Semester 8."
      ]
    },
    {
      "cell_type": "code",
      "metadata": {
        "colab": {
          "base_uri": "https://localhost:8080/"
        },
        "id": "NAanxn7PUbUL",
        "outputId": "e06ebed2-f6de-4d40-c1b2-4faa99e509d3"
      },
      "source": [
        "!pip install sumy"
      ],
      "execution_count": null,
      "outputs": [
        {
          "output_type": "stream",
          "text": [
            "Collecting sumy\n",
            "\u001b[?25l  Downloading https://files.pythonhosted.org/packages/61/20/8abf92617ec80a2ebaec8dc1646a790fc9656a4a4377ddb9f0cc90bc9326/sumy-0.8.1-py2.py3-none-any.whl (83kB)\n",
            "\r\u001b[K     |████                            | 10kB 16.0MB/s eta 0:00:01\r\u001b[K     |███████▉                        | 20kB 20.1MB/s eta 0:00:01\r\u001b[K     |███████████▊                    | 30kB 11.3MB/s eta 0:00:01\r\u001b[K     |███████████████▋                | 40kB 8.7MB/s eta 0:00:01\r\u001b[K     |███████████████████▌            | 51kB 5.6MB/s eta 0:00:01\r\u001b[K     |███████████████████████▍        | 61kB 5.1MB/s eta 0:00:01\r\u001b[K     |███████████████████████████▍    | 71kB 5.7MB/s eta 0:00:01\r\u001b[K     |███████████████████████████████▎| 81kB 6.4MB/s eta 0:00:01\r\u001b[K     |████████████████████████████████| 92kB 4.2MB/s \n",
            "\u001b[?25hCollecting breadability>=0.1.20\n",
            "  Downloading https://files.pythonhosted.org/packages/ad/2d/bb6c9b381e6b6a432aa2ffa8f4afdb2204f1ff97cfcc0766a5b7683fec43/breadability-0.1.20.tar.gz\n",
            "Requirement already satisfied: requests>=2.7.0 in /usr/local/lib/python3.7/dist-packages (from sumy) (2.23.0)\n",
            "Requirement already satisfied: nltk>=3.0.2 in /usr/local/lib/python3.7/dist-packages (from sumy) (3.2.5)\n",
            "Collecting pycountry>=18.2.23\n",
            "\u001b[?25l  Downloading https://files.pythonhosted.org/packages/76/73/6f1a412f14f68c273feea29a6ea9b9f1e268177d32e0e69ad6790d306312/pycountry-20.7.3.tar.gz (10.1MB)\n",
            "\u001b[K     |████████████████████████████████| 10.1MB 9.0MB/s \n",
            "\u001b[?25hRequirement already satisfied: docopt<0.7,>=0.6.1 in /usr/local/lib/python3.7/dist-packages (from sumy) (0.6.2)\n",
            "Requirement already satisfied: chardet in /usr/local/lib/python3.7/dist-packages (from breadability>=0.1.20->sumy) (3.0.4)\n",
            "Requirement already satisfied: lxml>=2.0 in /usr/local/lib/python3.7/dist-packages (from breadability>=0.1.20->sumy) (4.2.6)\n",
            "Requirement already satisfied: idna<3,>=2.5 in /usr/local/lib/python3.7/dist-packages (from requests>=2.7.0->sumy) (2.10)\n",
            "Requirement already satisfied: certifi>=2017.4.17 in /usr/local/lib/python3.7/dist-packages (from requests>=2.7.0->sumy) (2020.12.5)\n",
            "Requirement already satisfied: urllib3!=1.25.0,!=1.25.1,<1.26,>=1.21.1 in /usr/local/lib/python3.7/dist-packages (from requests>=2.7.0->sumy) (1.24.3)\n",
            "Requirement already satisfied: six in /usr/local/lib/python3.7/dist-packages (from nltk>=3.0.2->sumy) (1.15.0)\n",
            "Building wheels for collected packages: breadability, pycountry\n",
            "  Building wheel for breadability (setup.py) ... \u001b[?25l\u001b[?25hdone\n",
            "  Created wheel for breadability: filename=breadability-0.1.20-py2.py3-none-any.whl size=21680 sha256=64c9fe8502d594dd43ddb8703e8ffafd1a688d7f8547d207b3297914b0ac88e8\n",
            "  Stored in directory: /root/.cache/pip/wheels/5a/4d/a1/510b12c5e65e0b2b3ce539b2af66da0fc57571e528924f4a52\n",
            "  Building wheel for pycountry (setup.py) ... \u001b[?25l\u001b[?25hdone\n",
            "  Created wheel for pycountry: filename=pycountry-20.7.3-py2.py3-none-any.whl size=10746863 sha256=367c4d234a40f46e15fbc57b813086656b29382b9539206bcb147e5fdadda317\n",
            "  Stored in directory: /root/.cache/pip/wheels/33/4e/a6/be297e6b83567e537bed9df4a93f8590ec01c1acfbcd405348\n",
            "Successfully built breadability pycountry\n",
            "Installing collected packages: breadability, pycountry, sumy\n",
            "Successfully installed breadability-0.1.20 pycountry-20.7.3 sumy-0.8.1\n"
          ],
          "name": "stdout"
        }
      ]
    },
    {
      "cell_type": "code",
      "metadata": {
        "id": "RG_iuSc35VhB"
      },
      "source": [
        "import pandas as pd\n",
        "import numpy as np\n",
        "import matplotlib.pyplot as plt"
      ],
      "execution_count": null,
      "outputs": []
    },
    {
      "cell_type": "code",
      "metadata": {
        "colab": {
          "resources": {
            "http://localhost:8080/nbextensions/google.colab/files.js": {
              "data": "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",
              "ok": true,
              "headers": [
                [
                  "content-type",
                  "application/javascript"
                ]
              ],
              "status": 200,
              "status_text": ""
            }
          },
          "base_uri": "https://localhost:8080/",
          "height": 73
        },
        "id": "EQ8o2ACICSAj",
        "outputId": "40a9afec-7886-4f0a-8454-c9ff163bc0bd"
      },
      "source": [
        "from google.colab import files\n",
        "uploaded = files.upload()"
      ],
      "execution_count": null,
      "outputs": [
        {
          "output_type": "display_data",
          "data": {
            "text/html": [
              "\n",
              "     <input type=\"file\" id=\"files-d704a8c9-d309-4dcd-9344-e3a17e30fb10\" name=\"files[]\" multiple disabled\n",
              "        style=\"border:none\" />\n",
              "     <output id=\"result-d704a8c9-d309-4dcd-9344-e3a17e30fb10\">\n",
              "      Upload widget is only available when the cell has been executed in the\n",
              "      current browser session. Please rerun this cell to enable.\n",
              "      </output>\n",
              "      <script src=\"/nbextensions/google.colab/files.js\"></script> "
            ],
            "text/plain": [
              "<IPython.core.display.HTML object>"
            ]
          },
          "metadata": {
            "tags": []
          }
        },
        {
          "output_type": "stream",
          "text": [
            "Saving ADMISSIONS.csv to ADMISSIONS.csv\n"
          ],
          "name": "stdout"
        }
      ]
    },
    {
      "cell_type": "code",
      "metadata": {
        "id": "rGYcHJQYCgAj"
      },
      "source": [
        "df_adm = pd.read_csv('ADMISSIONS.csv')"
      ],
      "execution_count": null,
      "outputs": []
    },
    {
      "cell_type": "code",
      "metadata": {
        "colab": {
          "base_uri": "https://localhost:8080/",
          "height": 518
        },
        "id": "lxcpiaS9CtdQ",
        "outputId": "d6ca5e26-3220-43ae-a2b4-f648d1bd5238"
      },
      "source": [
        "df_adm.head(5)"
      ],
      "execution_count": null,
      "outputs": [
        {
          "output_type": "execute_result",
          "data": {
            "text/html": [
              "<div>\n",
              "<style scoped>\n",
              "    .dataframe tbody tr th:only-of-type {\n",
              "        vertical-align: middle;\n",
              "    }\n",
              "\n",
              "    .dataframe tbody tr th {\n",
              "        vertical-align: top;\n",
              "    }\n",
              "\n",
              "    .dataframe thead th {\n",
              "        text-align: right;\n",
              "    }\n",
              "</style>\n",
              "<table border=\"1\" class=\"dataframe\">\n",
              "  <thead>\n",
              "    <tr style=\"text-align: right;\">\n",
              "      <th></th>\n",
              "      <th>row_id</th>\n",
              "      <th>subject_id</th>\n",
              "      <th>hadm_id</th>\n",
              "      <th>admittime</th>\n",
              "      <th>dischtime</th>\n",
              "      <th>deathtime</th>\n",
              "      <th>admission_type</th>\n",
              "      <th>admission_location</th>\n",
              "      <th>Unnamed: 8</th>\n",
              "      <th>discharge_location</th>\n",
              "      <th>Unnamed: 10</th>\n",
              "      <th>insurance</th>\n",
              "      <th>days_next_admit</th>\n",
              "      <th>language</th>\n",
              "      <th>religion</th>\n",
              "      <th>marital_status</th>\n",
              "      <th>ethnicity</th>\n",
              "      <th>edregtime</th>\n",
              "      <th>edouttime</th>\n",
              "      <th>diagnosis</th>\n",
              "      <th>hospital_expire_flag</th>\n",
              "      <th>has_chartevents_data</th>\n",
              "      <th>text</th>\n",
              "    </tr>\n",
              "  </thead>\n",
              "  <tbody>\n",
              "    <tr>\n",
              "      <th>0</th>\n",
              "      <td>12258</td>\n",
              "      <td>10006</td>\n",
              "      <td>142345</td>\n",
              "      <td>23-10-2164 21:09</td>\n",
              "      <td>01-11-2164 17:15</td>\n",
              "      <td>NaN</td>\n",
              "      <td>EMERGENCY</td>\n",
              "      <td>EMERGENCY ROOM ADMIT</td>\n",
              "      <td>NaN</td>\n",
              "      <td>HOME HEALTH CARE</td>\n",
              "      <td>NaN</td>\n",
              "      <td>Medicare</td>\n",
              "      <td>12</td>\n",
              "      <td>NaN</td>\n",
              "      <td>CATHOLIC</td>\n",
              "      <td>SEPARATED</td>\n",
              "      <td>BLACK/AFRICAN AMERICAN</td>\n",
              "      <td>23-10-2164 16:43</td>\n",
              "      <td>23-10-2164 23:00</td>\n",
              "      <td>SEPSIS</td>\n",
              "      <td>0</td>\n",
              "      <td>1</td>\n",
              "      <td>CHIEF COMPLAINT: , Blood in urine.,HISTORY OF ...</td>\n",
              "    </tr>\n",
              "    <tr>\n",
              "      <th>1</th>\n",
              "      <td>12263</td>\n",
              "      <td>10011</td>\n",
              "      <td>105331</td>\n",
              "      <td>14-08-2126 22:32</td>\n",
              "      <td>28-08-2126 18:59</td>\n",
              "      <td>28-08-2126 18:59</td>\n",
              "      <td>EMERGENCY</td>\n",
              "      <td>TRANSFER FROM HOSP/EXTRAM</td>\n",
              "      <td>NaN</td>\n",
              "      <td>DEAD/EXPIRED</td>\n",
              "      <td>NaN</td>\n",
              "      <td>Private</td>\n",
              "      <td>0</td>\n",
              "      <td>NaN</td>\n",
              "      <td>CATHOLIC</td>\n",
              "      <td>SINGLE</td>\n",
              "      <td>UNKNOWN/NOT SPECIFIED</td>\n",
              "      <td>NaN</td>\n",
              "      <td>NaN</td>\n",
              "      <td>HEPATITIS B</td>\n",
              "      <td>1</td>\n",
              "      <td>1</td>\n",
              "      <td>CHIEF COMPLAINT: , Blood in urine.,HISTORY OF ...</td>\n",
              "    </tr>\n",
              "    <tr>\n",
              "      <th>2</th>\n",
              "      <td>12265</td>\n",
              "      <td>10013</td>\n",
              "      <td>165520</td>\n",
              "      <td>04-10-2125 23:36</td>\n",
              "      <td>07-10-2125 15:13</td>\n",
              "      <td>07-10-2125 15:13</td>\n",
              "      <td>EMERGENCY</td>\n",
              "      <td>TRANSFER FROM HOSP/EXTRAM</td>\n",
              "      <td>NaN</td>\n",
              "      <td>DEAD/EXPIRED</td>\n",
              "      <td>NaN</td>\n",
              "      <td>Medicare</td>\n",
              "      <td>0</td>\n",
              "      <td>NaN</td>\n",
              "      <td>CATHOLIC</td>\n",
              "      <td>NaN</td>\n",
              "      <td>UNKNOWN/NOT SPECIFIED</td>\n",
              "      <td>NaN</td>\n",
              "      <td>NaN</td>\n",
              "      <td>SEPSIS</td>\n",
              "      <td>1</td>\n",
              "      <td>1</td>\n",
              "      <td>HISTORY OF PRESENT ILLNESS:, The patient is a ...</td>\n",
              "    </tr>\n",
              "    <tr>\n",
              "      <th>3</th>\n",
              "      <td>12269</td>\n",
              "      <td>10017</td>\n",
              "      <td>199207</td>\n",
              "      <td>26-05-2149 17:19</td>\n",
              "      <td>03-06-2149 18:42</td>\n",
              "      <td>NaN</td>\n",
              "      <td>EMERGENCY</td>\n",
              "      <td>EMERGENCY ROOM ADMIT</td>\n",
              "      <td>NaN</td>\n",
              "      <td>SNF</td>\n",
              "      <td>NaN</td>\n",
              "      <td>Medicare</td>\n",
              "      <td>15</td>\n",
              "      <td>NaN</td>\n",
              "      <td>CATHOLIC</td>\n",
              "      <td>DIVORCED</td>\n",
              "      <td>WHITE</td>\n",
              "      <td>26-05-2149 12:08</td>\n",
              "      <td>26-05-2149 19:45</td>\n",
              "      <td>HUMERAL FRACTURE</td>\n",
              "      <td>0</td>\n",
              "      <td>1</td>\n",
              "      <td>HISTORY OF PRESENT ILLNESS: , A 71-year-old fe...</td>\n",
              "    </tr>\n",
              "    <tr>\n",
              "      <th>4</th>\n",
              "      <td>12270</td>\n",
              "      <td>10019</td>\n",
              "      <td>177759</td>\n",
              "      <td>14-05-2163 20:43</td>\n",
              "      <td>15-05-2163 12:00</td>\n",
              "      <td>15-05-2163 12:00</td>\n",
              "      <td>EMERGENCY</td>\n",
              "      <td>TRANSFER FROM HOSP/EXTRAM</td>\n",
              "      <td>NaN</td>\n",
              "      <td>DEAD/EXPIRED</td>\n",
              "      <td>NaN</td>\n",
              "      <td>Medicare</td>\n",
              "      <td>0</td>\n",
              "      <td>NaN</td>\n",
              "      <td>CATHOLIC</td>\n",
              "      <td>DIVORCED</td>\n",
              "      <td>WHITE</td>\n",
              "      <td>NaN</td>\n",
              "      <td>NaN</td>\n",
              "      <td>ALCOHOLIC HEPATITIS</td>\n",
              "      <td>1</td>\n",
              "      <td>1</td>\n",
              "      <td>HISTORY OF PRESENT ILLNESS:, The patient is a ...</td>\n",
              "    </tr>\n",
              "  </tbody>\n",
              "</table>\n",
              "</div>"
            ],
            "text/plain": [
              "   row_id  ...                                               text\n",
              "0   12258  ...  CHIEF COMPLAINT: , Blood in urine.,HISTORY OF ...\n",
              "1   12263  ...  CHIEF COMPLAINT: , Blood in urine.,HISTORY OF ...\n",
              "2   12265  ...  HISTORY OF PRESENT ILLNESS:, The patient is a ...\n",
              "3   12269  ...  HISTORY OF PRESENT ILLNESS: , A 71-year-old fe...\n",
              "4   12270  ...  HISTORY OF PRESENT ILLNESS:, The patient is a ...\n",
              "\n",
              "[5 rows x 23 columns]"
            ]
          },
          "metadata": {
            "tags": []
          },
          "execution_count": 5
        }
      ]
    },
    {
      "cell_type": "code",
      "metadata": {
        "colab": {
          "base_uri": "https://localhost:8080/"
        },
        "id": "sCw1Uj-aCvz8",
        "outputId": "28da4121-730c-49ee-f014-1a4b028d73c6"
      },
      "source": [
        "df_adm.columns"
      ],
      "execution_count": null,
      "outputs": [
        {
          "output_type": "execute_result",
          "data": {
            "text/plain": [
              "Index(['ROW_ID', 'SUBJECT_ID', 'HADM_ID', 'ADMITTIME', 'DISCHTIME',\n",
              "       'DEATHTIME', 'ADMISSION_TYPE', 'ADMISSION_LOCATION', 'UNNAMED: 8',\n",
              "       'DISCHARGE_LOCATION', 'UNNAMED: 10', 'INSURANCE', 'DAYS_NEXT_ADMIT',\n",
              "       'LANGUAGE', 'RELIGION', 'MARITAL_STATUS', 'ETHNICITY', 'EDREGTIME',\n",
              "       'EDOUTTIME', 'DIAGNOSIS', 'HOSPITAL_EXPIRE_FLAG',\n",
              "       'HAS_CHARTEVENTS_DATA', 'TEXT'],\n",
              "      dtype='object')"
            ]
          },
          "metadata": {
            "tags": []
          },
          "execution_count": 13
        }
      ]
    },
    {
      "cell_type": "code",
      "metadata": {
        "colab": {
          "base_uri": "https://localhost:8080/"
        },
        "id": "e6R1XkEKGtFl",
        "outputId": "fbb1ee6a-e8d5-45e2-f405-cb486e6256c8"
      },
      "source": [
        "df_adm.columns = df_adm.columns.str.upper()\n",
        "df_adm.columns"
      ],
      "execution_count": null,
      "outputs": [
        {
          "output_type": "execute_result",
          "data": {
            "text/plain": [
              "Index(['ROW_ID', 'SUBJECT_ID', 'HADM_ID', 'ADMITTIME', 'DISCHTIME',\n",
              "       'DEATHTIME', 'ADMISSION_TYPE', 'ADMISSION_LOCATION', 'UNNAMED: 8',\n",
              "       'DISCHARGE_LOCATION', 'UNNAMED: 10', 'INSURANCE', 'DAYS_NEXT_ADMIT',\n",
              "       'LANGUAGE', 'RELIGION', 'MARITAL_STATUS', 'ETHNICITY', 'EDREGTIME',\n",
              "       'EDOUTTIME', 'DIAGNOSIS', 'HOSPITAL_EXPIRE_FLAG',\n",
              "       'HAS_CHARTEVENTS_DATA', 'TEXT'],\n",
              "      dtype='object')"
            ]
          },
          "metadata": {
            "tags": []
          },
          "execution_count": 14
        }
      ]
    },
    {
      "cell_type": "code",
      "metadata": {
        "colab": {
          "base_uri": "https://localhost:8080/"
        },
        "id": "j_14tr_mL1lI",
        "outputId": "55ca7151-7aa7-4772-816a-c5eb45d28342"
      },
      "source": [
        "df_adm.DIAGNOSIS.unique()"
      ],
      "execution_count": null,
      "outputs": [
        {
          "output_type": "execute_result",
          "data": {
            "text/plain": [
              "array(['SEPSIS', 'HEPATITIS B', 'HUMERAL FRACTURE', 'ALCOHOLIC HEPATITIS',\n",
              "       'STROKE/TIA',\n",
              "       ' MITRAL REGURGITATION;CORONARY ARTERY DISEASE\\\\CORONARY ARTERY BYPASS GRAFT WITH MVR  ? MITRAL VALVE REPLACEMENT /SDA',\n",
              "       'SYNCOPE;TELEMETRY', 'RIGHT HUMEROUS FRACTURE',\n",
              "       'RENAL FAILIURE-SYNCOPE-HYPERKALEMIA',\n",
              "       'RECURRENT LEFT CAROTID STENOSIS,PRE HYDRATION',\n",
              "       'FAILURE TO THRIVE', 'PULMONARY EDEMA\\\\CATH', 'UNSTABLE ANGINA',\n",
              "       'RESPIRATORY DISTRESS', 'METASTATIC MELANOMA;BRAIN METASTASIS',\n",
              "       'FEVER', 'BRAIN METASTASES', 'VARICEAL BLEED', 'LOWER GI BLEED',\n",
              "       'CHEST PAIN/ CATH', 'SUBDURAL HEMATOMA/S/P FALL',\n",
              "       'ESOPHAGEAL CANCER/SDA', 'S/P MOTORCYCLE ACCIDENT', 'SEIZURE',\n",
              "       'GASTROINTESTINAL BLEED', 'LUNG CANCER;SHORTNESS OF BREATH',\n",
              "       'HYPOTENSION', 'SEPSIS;PNEUMONIA;TELEMETRY',\n",
              "       'CONGESTIVE HEART FAILURE', 'UROSEPSIS', 'BASAL GANGLIN BLEED',\n",
              "       'OVERDOSE', 'CRITICAL AORTIC STENOSIS/HYPOTENSION',\n",
              "       'HYPOTENSION;TELEMETRY', 'SEPSIS;TELEMETRY',\n",
              "       'STATUS POST MOTOR VEHICLE ACCIDENT WITH INJURIES',\n",
              "       'TACHYPNEA;TELEMETRY',\n",
              "       'CHRONIC MYELOGENOUS LEUKEMIA;TRANSFUSION REACTION',\n",
              "       'HYPONATREMIA;URINARY TRACT INFECTION', 'HEADACHE', 'VF ARREST ',\n",
              "       'PULMONARY EDEMA, MI', 'ACUTE CHOLECYSTITIS', 'LIVER FAILURE',\n",
              "       'LEFT HIP FRACTURE', 'S/P MOTOR VEHICLE ACCIDENT', 'ABSCESS',\n",
              "       'NON SMALL CELL CANCER;HYPOXIA', 'SHORTNESS OF BREATH',\n",
              "       'PNEUMONIA', 'ACUTE CHOLANGITIS', 'FEVER;URINARY TRACT INFECTION',\n",
              "       'SYNCOPE;TELEMETRY;INTRACRANIAL HEMORRHAGE', 'LEFT HIP OA/SDA',\n",
              "       'MEDIASTINAL ADENOPATHY', 'FACIAL NUMBNESS',\n",
              "       'AROMEGLEY;BURKITTS LYMPHOMA', 'STEMI;',\n",
              "       'TRACHEAL ESOPHAGEAL FISTULA', 'CHOLECYSTITIS', 'CELLULITIS',\n",
              "       'ABDOMINAL PAIN', 'ASTHMA;CHRONIC OBST PULM DISEASE',\n",
              "       'ELEVATED LIVER FUNCTIONS;S/P LIVER TRANSPLANT',\n",
              "       'HYPOTENSION;UNRESPONSIVE',\n",
              "       'URINARY TRACT INFECTION;PYELONEPHRITIS', 'SEPSIS; UTI',\n",
              "       'UTI/PYELONEPHRITIS', 'S/P FALL', 'TRACHEAL STENOSIS',\n",
              "       'INFERIOR MYOCARDIAL INFARCTION\\\\CATH', 'HEPATIC ENCEP',\n",
              "       'CHEST PAIN', 'RENAL CANCER/SDA', 'UPPER GI BLEED',\n",
              "       'PNEUMONIA/HYPOGLCEMIA/SYNCOPE', 'ASTHMA/COPD FLARE', 'VOLVULUS',\n",
              "       'SEIZURE;STATUS EPILEPTICUS', 'HYPOGLYCEMIA',\n",
              "       'CEREBROVASCULAR ACCIDENT', 'METASTIC MELANOMA;ANEMIA',\n",
              "       'HYPOTENSION, RENAL FAILURE', 'ACUTE SUBDURAL HEMATOMA',\n",
              "       'ESOPHAGEAL CA/SDA', 'MI CHF', 'PLEURAL EFFUSION',\n",
              "       'ACUTE PULMONARY EMBOLISM', 'PNEUMONIA;TELEMETRY',\n",
              "       'CORONARY ARTERY DISEASE\\\\CORONARY ARTERY BYPASS GRAFT /SDA',\n",
              "       'PERICARDIAL EFFUSION', 'ALTERED MENTAL STATUS',\n",
              "       'ACUTE RESPIRATORY DISTRESS SYNDROME;ACUTE RENAL FAILURE',\n",
              "       'BRADYCARDIA', 'CHOLANGITIS'], dtype=object)"
            ]
          },
          "metadata": {
            "tags": []
          },
          "execution_count": 12
        }
      ]
    },
    {
      "cell_type": "code",
      "metadata": {
        "colab": {
          "base_uri": "https://localhost:8080/",
          "height": 120
        },
        "id": "Kvr8asGeMVkq",
        "outputId": "1d1c866e-a253-4605-8211-0e4a1007ab29"
      },
      "source": [
        "df_adm.TEXT.iloc[0]"
      ],
      "execution_count": null,
      "outputs": [
        {
          "output_type": "execute_result",
          "data": {
            "application/vnd.google.colaboratory.intrinsic+json": {
              "type": "string"
            },
            "text/plain": [
              "\"CHIEF COMPLAINT: , Blood in urine.,HISTORY OF PRESENT ILLNESS:  ,This is a 78-year-old male who has prostate cancer with metastatic disease to his bladder and in several locations throughout the skeletal system including the spine and shoulder.  The patient has had problems with hematuria in the past, but the patient noted that this episode began yesterday, and today he has been passing principally blood with very little urine.  The patient states that there is no change in his chronic lower back pain and denies any incontinence of urine or stool.  The patient has not had any fever.  There is no abdominal pain and the patient is still able to pass urine.  The patient has not had any melena or hematochezia.  There is no nausea or vomiting.  The patient has already completed chemotherapy and is beyond treatment for his cancer at this time.  The patient is receiving radiation therapy, but it is targeted to the bones and intended to give symptomatic relief of his skeletal pain and not intended to treat and cure the cancer.  The patient is not enlisted in hospice, but the principle around the patient's current treatment management is focusing on comfort care measures.,REVIEW OF SYSTEMS: , CONSTITUTIONAL:  No fever or chills.  The patient does report generalized fatigue and weakness over the past several days.  HEENT:  No headache, no neck pain, no rhinorrhea, no sore throat.  CARDIOVASCULAR:  No chest pain.  RESPIRATIONS:  No shortness of breath or cough, although the patient does get easily winded with exertion over these past few days.  GASTROINTESTINAL:  The patient denies any abdominal pain.  No nausea or vomiting.  No changes in the bowel movement.  No melena or hematochezia.  GENITOURINARY:  A gross hematuria since yesterday as previously described.  The patient is still able to pass urine without difficulty.  The patient denies any groin pain.  The patient denies any other changes to the genital region.  MUSCULOSKELETAL:  The chronic lower back pain which has not changed over these past few days.  The patient does have multiple other joints, which cause him discomfort, but there have been no recent changes in these either.  SKIN:  No rashes or lesions.  No easy bruising.  NEUROLOGIC:  No focal weakness or numbness.  No incontinence of urine or stool.  No saddle paresthesia.  No dizziness, syncope or near-syncope.  ENDOCRINE:  No polyuria or polydipsia.  No heat or cold intolerance.  HEMATOLOGIC/LYMPHATIC:  The patient does not have a history of easy bruising or bleeding, but the patient has had previous episodes of hematuria.,PAST MEDICAL HISTORY: , Prostate cancer with metastatic disease as previously described.,PAST SURGICAL HISTORY: , TURP.,CURRENT MEDICATIONS:,  Morphine, Darvocet, Flomax, Avodart and ibuprofen.,ALLERGIES: , VICODIN.,SOCIAL HISTORY: , The patient is a nonsmoker.  Denies any alcohol or illicit drug use.  The patient does live with his family.,PHYSICAL EXAMINATION: , VITAL SIGNS:  Temperature is 98.8 oral, blood pressure is 108/65, pulse is 109, respirations 16, oxygen saturation is 97% on room air and interpreted as normal.  CONSTITUTIONAL:  The patient is well nourished, well developed.  The patient appears to be pale, but otherwise looks well.  The patient is calm, comfortable.  The patient is pleasant and cooperative.  HEENT:  Eyes normal with clear conjunctivae and corneas.  Nose is normal without rhinorrhea or audible congestion.  Mouth and oropharynx normal without any sign of infection.  Mucous membranes are moist.  NECK:  Supple.  Full range of motion.  No JVD.  CARDIOVASCULAR:  Heart is mildly tachycardic with regular rhythm without murmur, rub or gallop.  Peripheral pulses are +2.  RESPIRATIONS:  Clear to auscultation bilaterally.  No shortness of breath.  No wheezes, rales or rhonchi.  Good air movement bilaterally.  GASTROINTESTINAL:  Abdomen is soft, nontender, nondistended.  No rebound or guarding.  No hepatosplenomegaly.  Normal bowel sounds.  No bruit.  No masses or pulsatile masses.  GENITOURINARY:  The patient has normal male genitalia, uncircumcised.  There is no active bleeding from the penis at this time.  There is no swelling of the testicles.  There are no masses palpated to the testicles, scrotum or the penis.  There are no lesions or rashes noted.  There is no inguinal lymphadenopathy.  Normal male exam.  MUSCULOSKELETAL:  Back is normal and nontender.  There are no abnormalities noted to the arms or legs.  The patient has normal use of the extremities.  SKIN:  The patient appears to be pale, but otherwise the skin is normal.  There are no rashes or lesions.  NEUROLOGIC:  Motor and sensory are intact to the extremities.  The patient has normal speech.  PSYCHIATRIC:  The patient is alert and oriented x4.  Normal mood and affect.  HEMATOLOGIC/LYMPHATIC:  There is no evidence of bruising noted to the body.  No lymphadenitis is palpated.,EMERGENCY DEPARTMENT TESTING:,  CBC was done, which had a hemoglobin of 7.7 and hematocrit of 22.6.  Neutrophils were 81%.  The RDW was 18.5, and the rest of the values were all within normal limits and unremarkable.  Chemistry had a sodium of 134, a glucose of 132, calcium is 8.2, and rest of the values are unremarkable.  Alkaline phosphatase was 770 and albumin was 2.4.  Rest of the values all are within normal limits of the LFTs.  Urinalysis was grossly bloody with a large amount of blood and greater than 50 rbc's.  The patient also had greater than 300 of the protein reading, moderate leukocytes, 30-50 white blood cells, but no bacteria were seen.  Coagulation profile study had a PT of 15.9, PTT of 43 and INR of 1.3.,EMERGENCY DEPARTMENT COURSE: , The patient was given normal saline 2 liters over 1 hour without any adverse effect.  The patient was given multiple doses of morphine to maintain his comfort while here in the emergency room without any adverse effect.  The patient was given Levaquin 500 mg by mouth as well as 2 doses of Phenergan over the course of his stay here in the emergency department.  The patient did not have an adverse reaction to these medicines either.  Phenergan resolved his nausea and morphine did relieve his pain and make him pain free.  I spoke with Dr. X, the patient's urologist, about most appropriate step for the patient, and Dr. X said he would be happy to care for the patient in the hospital and do urologic scopes if necessary and surgery if necessary and blood transfusion.  It was all a matter of what the patient wished to do given the advanced stage of his cancer.  Dr. X was willing to assist in any way the patient wished him to.  I spoke with the patient and his son about what he would like to do and what the options were from doing nothing from keeping him comfortable with pain medicines to admitting him to the hospital with the possibility of scopes and even surgery being done as well as the blood transfusion.  The patient decided to choose a middle ground in which he would be transfused with 2 units of blood here in the emergency room and go home tonight.  The patient's son felt comfortable with his father's choice.  This was done.  The patient was transfused 2 units of packed red blood cells after appropriately typed and match.  The patient did not have any adverse reaction at any point with his transfusion.  There was no fever, no shortness of breath, and at the time of disposition, the patient stated he felt a little better and felt like he had a little more strength.  Over the course of the patient's several-hour stay in the emergency room, the patient did end up developing enough problems with clotted blood in his bladder that he had a urinary obstruction.  Foley catheter was placed, which produced bloody urine and relieved the developing discomfort of a full bladder.  The patient was given a leg bag and the Foley catheter was left in place.,DIAGNOSES,1.  HEMATURIA.,2.  PROSTATE CANCER WITH BONE AND BLADDER METASTATIC DISEASE.,3.  SIGNIFICANT ANEMIA.,4.  URINARY OBSTRUCTION.,CONDITION ON DISPOSITION:  ,Fair, but improved.,DISPOSITION: , To home with his son.,PLAN: , We will have the patient follow up with Dr. X in his office in 2 days for reevaluation.  The patient was given a prescription for Levaquin and Phenergan tablets to take home with him tonight.  The patient was encouraged to drink extra water.  The patient was given discharge instructions on hematuria and asked to return to the emergency room should he have any worsening of his condition or develop any other problems or symptoms of concern.\""
            ]
          },
          "metadata": {
            "tags": []
          },
          "execution_count": 15
        }
      ]
    },
    {
      "cell_type": "code",
      "metadata": {
        "id": "DiHyrWfvmcvC"
      },
      "source": [
        ""
      ],
      "execution_count": null,
      "outputs": []
    },
    {
      "cell_type": "code",
      "metadata": {
        "colab": {
          "base_uri": "https://localhost:8080/"
        },
        "id": "qWzm44yfNveX",
        "outputId": "ddc7e744-e564-4c9b-da7e-b74e78fa8e2c"
      },
      "source": [
        "df_adm.groupby('ADMISSION_TYPE').apply(lambda g: g.TEXT.isnull().sum())/df_adm.groupby('ADMISSION_TYPE').size()"
      ],
      "execution_count": null,
      "outputs": [
        {
          "output_type": "execute_result",
          "data": {
            "text/plain": [
              "ADMISSION_TYPE\n",
              "ELECTIVE     0.0\n",
              "EMERGENCY    0.0\n",
              "URGENT       0.0\n",
              "dtype: float64"
            ]
          },
          "metadata": {
            "tags": []
          },
          "execution_count": 16
        }
      ]
    },
    {
      "cell_type": "code",
      "metadata": {
        "id": "by1qX4KjOfYP"
      },
      "source": [
        "df_adm_clean = df_adm.loc[df_adm.ADMISSION_TYPE != 'NEWBORN'].copy()"
      ],
      "execution_count": null,
      "outputs": []
    },
    {
      "cell_type": "code",
      "metadata": {
        "id": "0Ipitp9lOr5V",
        "colab": {
          "base_uri": "https://localhost:8080/",
          "height": 52
        },
        "outputId": "49352bd9-b932-441f-af3c-7d05d8e6b0bc"
      },
      "source": [
        "'''print('Fraction of missing notes:', df_adm_clean.TEXT.isnull().sum() / len(df_adm_clean))\n",
        "print('Fraction notes with newlines:', df_adm_clean.TEXT.str.contains('\\n').sum() / len(df_adm_clean))\n",
        "print('Fraction notes with carriage returns:', df_adm_clean.TEXT.str.contains('\\r').sum() / len(df_adm_clean))'''"
      ],
      "execution_count": null,
      "outputs": [
        {
          "output_type": "execute_result",
          "data": {
            "application/vnd.google.colaboratory.intrinsic+json": {
              "type": "string"
            },
            "text/plain": [
              "\"print('Fraction of missing notes:', df_adm_clean.TEXT.isnull().sum() / len(df_adm_clean))\\nprint('Fraction notes with newlines:', df_adm_clean.TEXT.str.contains('\\n').sum() / len(df_adm_clean))\\nprint('Fraction notes with carriage returns:', df_adm_clean.TEXT.str.contains('\\r').sum() / len(df_adm_clean))\""
            ]
          },
          "metadata": {
            "tags": []
          },
          "execution_count": 18
        }
      ]
    },
    {
      "cell_type": "code",
      "metadata": {
        "id": "Oa9tNbzoQUAg"
      },
      "source": [
        "df_adm_clean['OUTPUT_LABEL'] = (df_adm_clean.DAYS_NEXT_ADMIT.astype('int') < 30).astype('int')"
      ],
      "execution_count": null,
      "outputs": []
    },
    {
      "cell_type": "code",
      "metadata": {
        "colab": {
          "base_uri": "https://localhost:8080/"
        },
        "id": "7Jr20Vw_No6B",
        "outputId": "0ddaf580-da02-4fe7-c883-7adcf247a352"
      },
      "source": [
        "print('Number of positive samples:', (df_adm_clean.OUTPUT_LABEL == 1).sum())\n",
        "print('Number of negative samples:',  (df_adm_clean.OUTPUT_LABEL == 0).sum())\n",
        "print('Total samples:', len(df_adm_clean))"
      ],
      "execution_count": null,
      "outputs": [
        {
          "output_type": "stream",
          "text": [
            "Number of positive samples: 97\n",
            "Number of negative samples: 32\n",
            "Total samples: 129\n"
          ],
          "name": "stdout"
        }
      ]
    },
    {
      "cell_type": "code",
      "metadata": {
        "colab": {
          "base_uri": "https://localhost:8080/"
        },
        "id": "OifCnqmRV0c3",
        "outputId": "27e4a94f-ac7f-46a5-abc1-b676654afe94"
      },
      "source": [
        "df_adm_clean = df_adm_clean.sample(n = len(df_adm_clean), random_state = 42)\n",
        "df_adm_clean = df_adm_clean.reset_index(drop = True)\n",
        "\n",
        "# Save 30% of the data as validation and test data \n",
        "df_valid_test=df_adm_clean.sample(frac=0.30,random_state=42)\n",
        "\n",
        "df_test = df_valid_test.sample(frac = 0.5, random_state = 42)\n",
        "df_valid = df_valid_test.drop(df_test.index)\n",
        "\n",
        "# use the rest of the data as training data\n",
        "df_train_all=df_adm_clean.drop(df_valid_test.index)\n",
        "\n",
        "print('Test prevalence(n = %d):'%len(df_test),df_test.OUTPUT_LABEL.sum()/ len(df_test))\n",
        "print('Valid prevalence(n = %d):'%len(df_valid),df_valid.OUTPUT_LABEL.sum()/ len(df_valid))\n",
        "print('Train all prevalence(n = %d):'%len(df_train_all), df_train_all.OUTPUT_LABEL.sum()/ len(df_train_all))\n",
        "print('all samples (n = %d)'%len(df_adm_clean))\n",
        "assert len(df_adm_clean) == (len(df_test)+len(df_valid)+len(df_train_all)),'math didnt work'"
      ],
      "execution_count": null,
      "outputs": [
        {
          "output_type": "stream",
          "text": [
            "Test prevalence(n = 20): 0.55\n",
            "Valid prevalence(n = 19): 0.8421052631578947\n",
            "Train all prevalence(n = 90): 0.7777777777777778\n",
            "all samples (n = 129)\n"
          ],
          "name": "stdout"
        }
      ]
    },
    {
      "cell_type": "code",
      "metadata": {
        "colab": {
          "base_uri": "https://localhost:8080/"
        },
        "id": "ZFCw-HC1Wq3F",
        "outputId": "e5d9e172-9583-4ef4-e571-d34d2ab1fb1f"
      },
      "source": [
        "rows_pos = df_train_all.OUTPUT_LABEL == 1\n",
        "df_train_pos = df_train_all.loc[rows_pos]\n",
        "df_train_neg = df_train_all.loc[~rows_pos]\n",
        "\n",
        "# merge the balanced data\n",
        "df_train = pd.concat([df_train_pos, df_train_neg.sample(n = len(df_train_pos), random_state = 42, replace = True)],axis = 0)\n",
        "\n",
        "# shuffle the order of training samples \n",
        "df_train = df_train.sample(n = len(df_train), random_state = 42).reset_index(drop = True)\n",
        "\n",
        "print('Train prevalence (n = %d):'%len(df_train), df_train.OUTPUT_LABEL.sum()/ len(df_train))"
      ],
      "execution_count": null,
      "outputs": [
        {
          "output_type": "stream",
          "text": [
            "Train prevalence (n = 140): 0.5\n"
          ],
          "name": "stdout"
        }
      ]
    },
    {
      "cell_type": "code",
      "metadata": {
        "id": "oG0UGcxhWWhk"
      },
      "source": [
        "def preprocess_text(df):       \n",
        "    # This function preprocesses the text by filling not a number and replacing new lines ('\\n') and carriage returns ('\\r')\n",
        "    df.TEXT = df.TEXT.fillna(' ')\n",
        "    df.TEXT =df.TEXT.str.replace('\\n',' ')\n",
        "    df.TEXT =df.TEXT.str.replace('\\r',' ')\n",
        "    return df"
      ],
      "execution_count": null,
      "outputs": []
    },
    {
      "cell_type": "code",
      "metadata": {
        "id": "NoVNJ-XkWWdT"
      },
      "source": [
        "df_train = preprocess_text(df_train)\n",
        "df_valid = preprocess_text(df_valid)\n",
        "df_test = preprocess_text(df_test)"
      ],
      "execution_count": null,
      "outputs": []
    },
    {
      "cell_type": "code",
      "metadata": {
        "colab": {
          "base_uri": "https://localhost:8080/"
        },
        "id": "eex8-PwTWWbJ",
        "outputId": "e402abd3-5cc8-4bc6-eab1-fcd6fcdf8a7b"
      },
      "source": [
        "import nltk\n",
        "nltk.download('punkt')\n",
        "from nltk import word_tokenize\n",
        "word_tokenize('This should be tokenized. 02/02/2018 sentence has stars**')"
      ],
      "execution_count": null,
      "outputs": [
        {
          "output_type": "stream",
          "text": [
            "[nltk_data] Downloading package punkt to /root/nltk_data...\n",
            "[nltk_data]   Unzipping tokenizers/punkt.zip.\n"
          ],
          "name": "stdout"
        },
        {
          "output_type": "execute_result",
          "data": {
            "text/plain": [
              "['This',\n",
              " 'should',\n",
              " 'be',\n",
              " 'tokenized',\n",
              " '.',\n",
              " '02/02/2018',\n",
              " 'sentence',\n",
              " 'has',\n",
              " 'stars**']"
            ]
          },
          "metadata": {
            "tags": []
          },
          "execution_count": 25
        }
      ]
    },
    {
      "cell_type": "code",
      "metadata": {
        "colab": {
          "base_uri": "https://localhost:8080/"
        },
        "id": "0qWESygDWWY1",
        "outputId": "05c427a6-d99f-42c0-a772-b78f1dfffbbe"
      },
      "source": [
        "import string\n",
        "print(string.punctuation)"
      ],
      "execution_count": null,
      "outputs": [
        {
          "output_type": "stream",
          "text": [
            "!\"#$%&'()*+,-./:;<=>?@[\\]^_`{|}~\n"
          ],
          "name": "stdout"
        }
      ]
    },
    {
      "cell_type": "code",
      "metadata": {
        "id": "5QGtDvCPYMUX"
      },
      "source": [
        "def tokenizer_better(text):\n",
        "    # tokenize the text by replacing punctuation and numbers with spaces and lowercase all words\n",
        "    \n",
        "    punc_list = string.punctuation+'0123456789'\n",
        "    t = str.maketrans(dict.fromkeys(punc_list, \" \"))\n",
        "    text = text.lower().translate(t)\n",
        "    tokens = word_tokenize(text)\n",
        "    return tokens"
      ],
      "execution_count": null,
      "outputs": []
    },
    {
      "cell_type": "code",
      "metadata": {
        "colab": {
          "base_uri": "https://localhost:8080/"
        },
        "id": "Fb4lVARnYMSi",
        "outputId": "3585233f-156c-42cb-b503-ed3f3b01c078"
      },
      "source": [
        "tokenizer_better('This should be tokenized. 02/02/2018 sentence has stars**')"
      ],
      "execution_count": null,
      "outputs": [
        {
          "output_type": "execute_result",
          "data": {
            "text/plain": [
              "['this', 'should', 'be', 'tokenized', 'sentence', 'has', 'stars']"
            ]
          },
          "metadata": {
            "tags": []
          },
          "execution_count": 28
        }
      ]
    },
    {
      "cell_type": "code",
      "metadata": {
        "id": "NQmYHCbWYMQF"
      },
      "source": [
        "sample_text = ['Data science is about the data', 'The science is amazing', 'Predictive modeling is part of data science']"
      ],
      "execution_count": null,
      "outputs": []
    },
    {
      "cell_type": "code",
      "metadata": {
        "colab": {
          "base_uri": "https://localhost:8080/"
        },
        "id": "qIB4MsLOYMNu",
        "outputId": "b81c12a4-7d75-4986-e3cd-16c756ccebcb"
      },
      "source": [
        "from sklearn.feature_extraction.text import CountVectorizer\n",
        "vect = CountVectorizer(tokenizer = tokenizer_better)\n",
        "vect.fit(sample_text)\n",
        "\n",
        "# matrix is stored as a sparse matrix (since our dataset has a lot of zero values in Days_until_next_admit)\n",
        "X = vect.transform(sample_text)"
      ],
      "execution_count": null,
      "outputs": [
        {
          "output_type": "stream",
          "text": [
            "/usr/local/lib/python3.7/dist-packages/sklearn/feature_extraction/text.py:507: UserWarning: The parameter 'token_pattern' will not be used since 'tokenizer' is not None'\n",
            "  warnings.warn(\"The parameter 'token_pattern' will not be used\"\n"
          ],
          "name": "stderr"
        }
      ]
    },
    {
      "cell_type": "code",
      "metadata": {
        "colab": {
          "base_uri": "https://localhost:8080/"
        },
        "id": "Nl2JX_udYML2",
        "outputId": "55575874-21eb-499c-db0c-b6610a2b6895"
      },
      "source": [
        "X"
      ],
      "execution_count": null,
      "outputs": [
        {
          "output_type": "execute_result",
          "data": {
            "text/plain": [
              "<3x10 sparse matrix of type '<class 'numpy.int64'>'\n",
              "\twith 16 stored elements in Compressed Sparse Row format>"
            ]
          },
          "metadata": {
            "tags": []
          },
          "execution_count": 31
        }
      ]
    },
    {
      "cell_type": "code",
      "metadata": {
        "colab": {
          "base_uri": "https://localhost:8080/"
        },
        "id": "oqhChP43YMJo",
        "outputId": "f4efe856-5d27-4ad5-d8cb-59d52a6d52df"
      },
      "source": [
        "X.toarray()"
      ],
      "execution_count": null,
      "outputs": [
        {
          "output_type": "execute_result",
          "data": {
            "text/plain": [
              "array([[1, 0, 2, 1, 0, 0, 0, 0, 1, 1],\n",
              "       [0, 1, 0, 1, 0, 0, 0, 0, 1, 1],\n",
              "       [0, 0, 1, 1, 1, 1, 1, 1, 1, 0]])"
            ]
          },
          "metadata": {
            "tags": []
          },
          "execution_count": 32
        }
      ]
    },
    {
      "cell_type": "code",
      "metadata": {
        "colab": {
          "base_uri": "https://localhost:8080/"
        },
        "id": "vpD0ojkCYczF",
        "outputId": "b20a444e-6730-42ca-f8df-b7c51914dea3"
      },
      "source": [
        "vect.get_feature_names()"
      ],
      "execution_count": null,
      "outputs": [
        {
          "output_type": "execute_result",
          "data": {
            "text/plain": [
              "['about',\n",
              " 'amazing',\n",
              " 'data',\n",
              " 'is',\n",
              " 'modeling',\n",
              " 'of',\n",
              " 'part',\n",
              " 'predictive',\n",
              " 'science',\n",
              " 'the']"
            ]
          },
          "metadata": {
            "tags": []
          },
          "execution_count": 33
        }
      ]
    },
    {
      "cell_type": "code",
      "metadata": {
        "colab": {
          "base_uri": "https://localhost:8080/"
        },
        "id": "aMWNlefsYcs4",
        "outputId": "0bf7b205-71f5-4b25-e4a0-b8855af5b32b"
      },
      "source": [
        "from sklearn.feature_extraction.text import CountVectorizer\n",
        "vect = CountVectorizer(max_features = 3000, tokenizer = tokenizer_better, ngram_range=(2,2))\n",
        "\n",
        "\n",
        "vect.fit(df_train.TEXT.values)"
      ],
      "execution_count": null,
      "outputs": [
        {
          "output_type": "stream",
          "text": [
            "/usr/local/lib/python3.7/dist-packages/sklearn/feature_extraction/text.py:507: UserWarning: The parameter 'token_pattern' will not be used since 'tokenizer' is not None'\n",
            "  warnings.warn(\"The parameter 'token_pattern' will not be used\"\n"
          ],
          "name": "stderr"
        },
        {
          "output_type": "execute_result",
          "data": {
            "text/plain": [
              "CountVectorizer(analyzer='word', binary=False, decode_error='strict',\n",
              "                dtype=<class 'numpy.int64'>, encoding='utf-8', input='content',\n",
              "                lowercase=True, max_df=1.0, max_features=3000, min_df=1,\n",
              "                ngram_range=(2, 2), preprocessor=None, stop_words=None,\n",
              "                strip_accents=None, token_pattern='(?u)\\\\b\\\\w\\\\w+\\\\b',\n",
              "                tokenizer=<function tokenizer_better at 0x7f66649719e0>,\n",
              "                vocabulary=None)"
            ]
          },
          "metadata": {
            "tags": []
          },
          "execution_count": 34
        }
      ]
    },
    {
      "cell_type": "code",
      "metadata": {
        "colab": {
          "base_uri": "https://localhost:8080/",
          "height": 979
        },
        "id": "43b8fPs9YcqG",
        "outputId": "f446cf55-f347-426c-bf37-43b3b12d3f19"
      },
      "source": [
        "neg_doc_matrix = vect.transform(df_train[df_train.OUTPUT_LABEL == 0].TEXT)\n",
        "pos_doc_matrix = vect.transform(df_train[df_train.OUTPUT_LABEL == 1].TEXT)\n",
        "neg_tf = np.sum(neg_doc_matrix,axis=0)\n",
        "pos_tf = np.sum(pos_doc_matrix,axis=0)\n",
        "neg = np.squeeze(np.asarray(neg_tf))\n",
        "pos = np.squeeze(np.asarray(pos_tf))\n",
        "\n",
        "term_freq_df = pd.DataFrame([neg,pos],columns=vect.get_feature_names()).transpose()\n",
        "term_freq_df.columns = ['negative', 'positive']\n",
        "term_freq_df['total'] = term_freq_df['negative'] + term_freq_df['positive']\n",
        "term_freq_df.sort_values(by='total', ascending=False).iloc[:10]\n",
        "\n",
        "#Create a series from the sparse matrix\n",
        "d = pd.Series(term_freq_df.total, \n",
        "              index = term_freq_df.index).sort_values(ascending=False)\n",
        "ax = d[:50].plot(kind='bar', figsize=(10,6), width=.8, fontsize=14, rot=90,color = 'b')\n",
        "ax.title.set_size(18)\n",
        "plt.ylabel('count')\n",
        "plt.show()\n",
        "ax = d[50:100].plot(kind='bar', figsize=(10,6), width=.8, fontsize=14, rot=90,color = 'b')\n",
        "ax.title.set_size(18)\n",
        "plt.ylabel('count')\n",
        "plt.show()"
      ],
      "execution_count": null,
      "outputs": [
        {
          "output_type": "display_data",
          "data": {
            "image/png": "[encoded data removed]",
            "text/plain": [
              "<Figure size 720x432 with 1 Axes>"
            ]
          },
          "metadata": {
            "tags": [],
            "needs_background": "light"
          }
        },
        {
          "output_type": "display_data",
          "data": {
            "image/png": "[encoded data removed]",
            "text/plain": [
              "<Figure size 720x432 with 1 Axes>"
            ]
          },
          "metadata": {
            "tags": [],
            "needs_background": "light"
          }
        }
      ]
    },
    {
      "cell_type": "code",
      "metadata": {
        "id": "vG6TvCIvYcoJ"
      },
      "source": [
        "my_stop_words = ['the','and','to','of','was','with','a','on','in','for','name',\n",
        "                 'is','patient','s','he','at','as','or','one','she','his','her','am',\n",
        "                 'were','you','pt','pm','by','be','had','your','this','date',\n",
        "                'from','there','an','that','p','are','have','has','h','but','o',\n",
        "                'namepattern','which','every','also', 'he had','p r','r n','and a','i have','he has','a day']"
      ],
      "execution_count": null,
      "outputs": []
    },
    {
      "cell_type": "code",
      "metadata": {
        "colab": {
          "base_uri": "https://localhost:8080/"
        },
        "id": "4oO_X7DOYcmI",
        "outputId": "bbb9d1bb-b78d-4543-e962-efb7cffd885b"
      },
      "source": [
        "from sklearn.feature_extraction.text import CountVectorizer\n",
        "vect = CountVectorizer(max_features = 3000, \n",
        "                       tokenizer = tokenizer_better, \n",
        "                       stop_words = my_stop_words, ngram_range=(2,2))\n",
        "# this could take a while\n",
        "vect.fit(df_train.TEXT.values)"
      ],
      "execution_count": null,
      "outputs": [
        {
          "output_type": "stream",
          "text": [
            "/usr/local/lib/python3.7/dist-packages/sklearn/feature_extraction/text.py:507: UserWarning: The parameter 'token_pattern' will not be used since 'tokenizer' is not None'\n",
            "  warnings.warn(\"The parameter 'token_pattern' will not be used\"\n",
            "/usr/local/lib/python3.7/dist-packages/sklearn/feature_extraction/text.py:385: UserWarning: Your stop_words may be inconsistent with your preprocessing. Tokenizing the stop words generated tokens ['day', 'i', 'n', 'r'] not in stop_words.\n",
            "  'stop_words.' % sorted(inconsistent))\n"
          ],
          "name": "stderr"
        },
        {
          "output_type": "execute_result",
          "data": {
            "text/plain": [
              "CountVectorizer(analyzer='word', binary=False, decode_error='strict',\n",
              "                dtype=<class 'numpy.int64'>, encoding='utf-8', input='content',\n",
              "                lowercase=True, max_df=1.0, max_features=3000, min_df=1,\n",
              "                ngram_range=(2, 2), preprocessor=None,\n",
              "                stop_words=['the', 'and', 'to', 'of', 'was', 'with', 'a', 'on',\n",
              "                            'in', 'for', 'name', 'is', 'patient', 's', 'he',\n",
              "                            'at', 'as', 'or', 'one', 'she', 'his', 'her', 'am',\n",
              "                            'were', 'you', 'pt', 'pm', 'by', 'be', 'had', ...],\n",
              "                strip_accents=None, token_pattern='(?u)\\\\b\\\\w\\\\w+\\\\b',\n",
              "                tokenizer=<function tokenizer_better at 0x7f66649719e0>,\n",
              "                vocabulary=None)"
            ]
          },
          "metadata": {
            "tags": []
          },
          "execution_count": 37
        }
      ]
    },
    {
      "cell_type": "code",
      "metadata": {
        "id": "pnlLgjOgWInJ"
      },
      "source": [
        "X_train_tf = vect.transform(df_train.TEXT.values)\n",
        "X_valid_tf = vect.transform(df_valid.TEXT.values)"
      ],
      "execution_count": null,
      "outputs": []
    },
    {
      "cell_type": "code",
      "metadata": {
        "id": "Yml7wKLfY8Ug"
      },
      "source": [
        "y_train = df_train.OUTPUT_LABEL\n",
        "y_valid = df_valid.OUTPUT_LABEL"
      ],
      "execution_count": null,
      "outputs": []
    },
    {
      "cell_type": "code",
      "metadata": {
        "colab": {
          "base_uri": "https://localhost:8080/"
        },
        "id": "i-X2j-btY8Q5",
        "outputId": "e14e7627-6fd8-4277-9c87-d35857104a61"
      },
      "source": [
        "# logistic regression\n",
        "from sklearn.linear_model import LogisticRegression\n",
        "clf=LogisticRegression(C = 0.0001, penalty = 'l2', random_state = 42)\n",
        "clf.fit(X_train_tf, y_train)"
      ],
      "execution_count": null,
      "outputs": [
        {
          "output_type": "execute_result",
          "data": {
            "text/plain": [
              "LogisticRegression(C=0.0001, class_weight=None, dual=False, fit_intercept=True,\n",
              "                   intercept_scaling=1, l1_ratio=None, max_iter=100,\n",
              "                   multi_class='auto', n_jobs=None, penalty='l2',\n",
              "                   random_state=42, solver='lbfgs', tol=0.0001, verbose=0,\n",
              "                   warm_start=False)"
            ]
          },
          "metadata": {
            "tags": []
          },
          "execution_count": 40
        }
      ]
    },
    {
      "cell_type": "code",
      "metadata": {
        "id": "9050zIOsZDiE"
      },
      "source": [
        "model = clf\n",
        "y_train_preds = model.predict_proba(X_train_tf)[:,1]\n",
        "y_valid_preds = model.predict_proba(X_valid_tf)[:,1]"
      ],
      "execution_count": null,
      "outputs": []
    },
    {
      "cell_type": "code",
      "metadata": {
        "colab": {
          "base_uri": "https://localhost:8080/"
        },
        "id": "0ljRODdqZDeg",
        "outputId": "20b6292b-67de-417d-f3cd-21e2056b6982"
      },
      "source": [
        "print(y_train[:10].values)\n",
        "print(y_train_preds[:10])"
      ],
      "execution_count": null,
      "outputs": [
        {
          "output_type": "stream",
          "text": [
            "[0 1 1 0 1 1 0 1 0 0]\n",
            "[0.48767194 0.51427244 0.50020714 0.49777937 0.50917271 0.52240422\n",
            " 0.4988166  0.49181352 0.46211579 0.46211579]\n"
          ],
          "name": "stdout"
        }
      ]
    },
    {
      "cell_type": "code",
      "metadata": {
        "id": "Hac89eG-ZPJI"
      },
      "source": [
        "def calc_accuracy(y_actual, y_pred, thresh):\n",
        "    # this function calculates the accuracy with probability threshold at thresh\n",
        "    return (sum((y_pred > thresh) & (y_actual == 1))+sum((y_pred < thresh) & (y_actual == 0))) /len(y_actual)\n",
        "\n",
        "def calc_recall(y_actual, y_pred, thresh):\n",
        "    # calculates the recall\n",
        "    return sum((y_pred > thresh) & (y_actual == 1)) /sum(y_actual)\n",
        "\n",
        "def calc_precision(y_actual, y_pred, thresh):\n",
        "    # calculates the precision\n",
        "    return sum((y_pred > thresh) & (y_actual == 1)) /sum(y_pred > thresh)\n",
        "\n",
        "def calc_specificity(y_actual, y_pred, thresh):\n",
        "    # calculates specificity\n",
        "    return sum((y_pred < thresh) & (y_actual == 0)) /sum(y_actual ==0)\n",
        "\n",
        "def calc_prevalence(y_actual):\n",
        "    # calculates prevalence\n",
        "    return sum((y_actual == 1)) /len(y_actual)"
      ],
      "execution_count": null,
      "outputs": []
    },
    {
      "cell_type": "code",
      "metadata": {
        "colab": {
          "base_uri": "https://localhost:8080/",
          "height": 481
        },
        "id": "qYrEIcopZPFg",
        "outputId": "26a36ebc-41fc-42de-e1df-dc29da0d6fae"
      },
      "source": [
        "from sklearn.metrics import roc_curve\n",
        "from sklearn.metrics import roc_auc_score\n",
        "\n",
        "fpr_train, tpr_train, thresholds_train = roc_curve(y_train, y_train_preds)\n",
        "fpr_valid, tpr_valid, thresholds_valid = roc_curve(y_valid, y_valid_preds)\n",
        "\n",
        "\n",
        "thresh = 0.5\n",
        "\n",
        "auc_train = roc_auc_score(y_train, y_train_preds)\n",
        "auc_valid = roc_auc_score(y_valid, y_valid_preds)\n",
        "\n",
        "print('Train AUC:%.3f'%auc_train)\n",
        "print('Valid AUC:%.3f'%auc_valid)\n",
        "\n",
        "print('Train accuracy:%.3f'%calc_accuracy(y_train, y_train_preds, thresh))\n",
        "print('Valid accuracy:%.3f'%calc_accuracy(y_valid, y_valid_preds, thresh))\n",
        "\n",
        "print('Train recall:%.3f'%calc_recall(y_train, y_train_preds, thresh))\n",
        "print('Valid recall:%.3f'%calc_recall(y_valid, y_valid_preds, thresh))\n",
        "\n",
        "print('Train precision:%.3f'%calc_precision(y_train, y_train_preds, thresh))\n",
        "print('Valid precision:%.3f'%calc_precision(y_valid, y_valid_preds, thresh))\n",
        "\n",
        "print('Train specificity:%.3f'%calc_specificity(y_train, y_train_preds, thresh))\n",
        "print('Valid specificity:%.3f'%calc_specificity(y_valid, y_valid_preds, thresh))\n",
        "\n",
        "print('Train prevalence:%.3f'%calc_prevalence(y_train))\n",
        "print('Valid prevalence:%.3f'%calc_prevalence(y_valid))\n",
        "\n",
        "\n",
        "plt.plot(fpr_train, tpr_train,'r-', label = 'Train AUC: %.2f'%auc_train)\n",
        "plt.plot(fpr_valid, tpr_valid,'b-',label = 'Valid AUC: %.2f'%auc_valid)\n",
        "plt.plot([0,1],[0,1],'-k')\n",
        "plt.xlabel('False Positive Rate')\n",
        "plt.ylabel('True Positive Rate')\n",
        "plt.legend()\n",
        "plt.show()"
      ],
      "execution_count": null,
      "outputs": [
        {
          "output_type": "stream",
          "text": [
            "Train AUC:0.790\n",
            "Valid AUC:0.490\n",
            "Train accuracy:0.743\n",
            "Valid accuracy:0.684\n",
            "Train recall:0.771\n",
            "Valid recall:0.812\n",
            "Train precision:0.730\n",
            "Valid precision:0.812\n",
            "Train specificity:0.714\n",
            "Valid specificity:0.000\n",
            "Train prevalence:0.500\n",
            "Valid prevalence:0.842\n"
          ],
          "name": "stdout"
        },
        {
          "output_type": "display_data",
          "data": {
            "image/png": "[encoded data removed]",
            "text/plain": [
              "<Figure size 432x288 with 1 Axes>"
            ]
          },
          "metadata": {
            "tags": [],
            "needs_background": "light"
          }
        }
      ]
    },
    {
      "cell_type": "code",
      "metadata": {
        "colab": {
          "base_uri": "https://localhost:8080/"
        },
        "id": "jVkOmSSQp8pG",
        "outputId": "b3da3b20-f4a5-47e5-bf0b-0c147c073a18"
      },
      "source": [
        "new_df = df_adm['TEXT'].copy()\n",
        "new_df.head()"
      ],
      "execution_count": null,
      "outputs": [
        {
          "output_type": "execute_result",
          "data": {
            "text/plain": [
              "0    CHIEF COMPLAINT: , Blood in urine.,HISTORY OF ...\n",
              "1    CHIEF COMPLAINT: , Blood in urine.,HISTORY OF ...\n",
              "2    HISTORY OF PRESENT ILLNESS:, The patient is a ...\n",
              "3    HISTORY OF PRESENT ILLNESS: , A 71-year-old fe...\n",
              "4    HISTORY OF PRESENT ILLNESS:, The patient is a ...\n",
              "Name: TEXT, dtype: object"
            ]
          },
          "metadata": {
            "tags": []
          },
          "execution_count": 45
        }
      ]
    },
    {
      "cell_type": "code",
      "metadata": {
        "colab": {
          "base_uri": "https://localhost:8080/"
        },
        "id": "rI6KNuOTtK3H",
        "outputId": "a0f87c04-09f9-4fd4-b9f2-ec83fe6a0400"
      },
      "source": [
        "import nltk \n",
        "from nltk.corpus import stopwords \n",
        "nltk.download('stopwords')\n",
        "from nltk.tokenize import word_tokenize, sent_tokenize \n",
        "stop_words = set(stopwords.words('english')) \n",
        "\n",
        "pat_num = int(input('Enter the patient number for which you want to perform POS tagging: '))\n",
        "\n",
        "text = new_df[pat_num]\n",
        "\n",
        "import nltk\n",
        "nltk.download('punkt')\n",
        "nltk.download('averaged_perceptron_tagger')\n",
        "tokenized = sent_tokenize(text) \n",
        "for i in tokenized: \n",
        "    \n",
        "\n",
        "    wordsList = nltk.word_tokenize(i) \n",
        "\n",
        "    wordsList = [w for w in wordsList if not w in stop_words] \n",
        "\n",
        "    tagged = nltk.pos_tag(wordsList) \n",
        "\n",
        "    print(tagged) \n",
        "\n",
        "\n",
        "\n",
        "\n",
        "from textblob import TextBlob\n",
        " \n",
        "# Function to generate n-grams from sentences.\n",
        "def extract_ngrams(data, num):\n",
        "    n_grams = TextBlob(data).ngrams(num)\n",
        "    return [ ' '.join(grams) for grams in n_grams]\n",
        " \n",
        "data = new_df[pat_num]\n",
        " \n",
        "print(\"\") \n",
        "print(\"1-gram: \", extract_ngrams(data, 1))\n",
        "print(\"2-gram: \", extract_ngrams(data, 2))"
      ],
      "execution_count": null,
      "outputs": [
        {
          "output_type": "stream",
          "text": [
            "[nltk_data] Downloading package stopwords to /root/nltk_data...\n",
            "[nltk_data]   Unzipping corpora/stopwords.zip.\n",
            "Enter the patient number for which you want to perform POS tagging: 4\n",
            "[nltk_data] Downloading package punkt to /root/nltk_data...\n",
            "[nltk_data]   Package punkt is already up-to-date!\n",
            "[nltk_data] Downloading package averaged_perceptron_tagger to\n",
            "[nltk_data]     /root/nltk_data...\n",
            "[nltk_data]   Unzipping taggers/averaged_perceptron_tagger.zip.\n",
            "[('HISTORY', 'NN'), ('OF', 'NNP'), ('PRESENT', 'NNP'), ('ILLNESS', 'NNP'), (':', ':'), (',', ','), ('The', 'DT'), ('patient', 'JJ'), ('71-year-old', 'JJ'), ('Caucasian', 'JJ'), ('female', 'NN'), ('history', 'NN'), ('diabetes', 'NNS'), (',', ','), ('osteoarthritis', 'NN'), (',', ','), ('atrial', 'JJ'), ('fibrillation', 'NN'), (',', ','), ('hypertension', 'NN'), (',', ','), ('asthma', 'NN'), (',', ','), ('obstructive', 'JJ'), ('sleep', 'NN'), ('apnea', 'NN'), ('CPAP', 'NNP'), (',', ','), ('diabetic', 'JJ'), ('foot', 'NN'), ('ulcer', 'NN'), (',', ','), ('anemia', 'NN'), ('left', 'VBD'), ('lower', 'JJR'), ('extremity', 'NN'), ('cellulitis', 'NN'), ('.', '.')]\n",
            "[('She', 'PRP'), ('brought', 'VBD'), ('EMS', 'NNP'), ('service', 'NN'), ('Erlanger', 'NNP'), ('emergency', 'NN'), ('department', 'NN'), ('pulseless', 'JJ'), ('electrical', 'JJ'), ('activity', 'NN'), ('.', '.')]\n",
            "[('Her', 'PRP$'), ('husband', 'NN'), ('states', 'VBZ'), ('home', 'JJ'), ('wife', 'NN'), (',', ','), ('presented', 'VBD'), ('complaining', 'VBG'), ('fever', 'NN'), ('chills', 'NNS'), ('.', '.')]\n",
            "[('She', 'PRP'), ('became', 'VBD'), ('acutely', 'RB'), ('unresponsive', 'JJ'), ('.', '.')]\n",
            "[('She', 'PRP'), ('noted', 'VBD'), ('worsening', 'VBG'), ('breathing', 'NN'), ('.', '.')]\n",
            "[('She', 'PRP'), ('took', 'VBD'), ('several', 'JJ'), ('MDIs', 'NNP'), ('placed', 'VBD'), ('CPAP', 'NNP'), ('.', '.')]\n",
            "[('He', 'PRP'), ('went', 'VBD'), ('notify', 'RB'), ('EMS', 'NNP'), ('returned', 'VBD'), (',', ','), ('found', 'VBD'), ('breathing', 'NN'), ('.', '.')]\n",
            "[('He', 'PRP'), ('stated', 'VBD'), ('noted', 'JJ'), ('breathing', 'NN'), ('excess', 'JJ'), ('10', 'CD'), ('minutes', 'NNS'), ('.', '.')]\n",
            "[('He', 'PRP'), ('states', 'VBZ'), ('EMS', 'NNP'), ('system', 'NN'), ('arrived', 'VBD'), ('home', 'NN'), ('found', 'NN'), ('breathing', 'NN'), ('.', '.')]\n",
            "[('The', 'DT'), ('patient', 'NN'), ('intubated', 'VBD'), ('scene', 'NN'), ('upon', 'IN'), ('arrival', 'JJ'), ('Erlanger', 'NNP'), ('Medical', 'NNP'), ('Center', 'NNP'), (',', ','), ('found', 'VBD'), ('pupils', 'NNS'), ('fixed', 'VBN'), ('dilated', 'VBN'), ('.', '.')]\n",
            "[('She', 'PRP'), ('seen', 'VBN'), ('emergency', 'NN'), ('department', 'NN'), ('Neo-Synephrine', 'NNP'), (',', ','), ('dopamine', 'NN'), ('blood', 'NN'), ('pressure', 'NN'), ('97/22', 'CD'), ('rapid', 'JJ'), ('heart', 'NN'), ('rate', 'NN'), (',', ','), ('unresponsive', 'JJ'), ('state.', 'NN'), (',', ','), ('REVIEW', 'NNP'), ('OF', 'NNP'), ('SYSTEMS', 'NNP'), (':', ':'), (',', ','), ('Review', 'NNP'), ('systems', 'NNS'), ('obtainable.', 'RB'), (',', ','), ('PAST', 'NNP'), ('MEDICAL', 'NNP'), ('HISTORY', 'NNP'), (':', ':'), (',', ','), ('Diabetes', 'VBZ'), (',', ','), ('osteoarthritis', 'NN'), (',', ','), ('hypertension', 'NN'), (',', ','), ('asthma', 'NN'), (',', ','), ('atrial', 'JJ'), ('fibrillation', 'NN'), (',', ','), ('diabetic', 'JJ'), ('foot', 'NN'), ('ulcer', 'NN'), ('anemia.', 'NN'), (',', ','), ('PAST', 'NNP'), ('SURGICAL', 'NNP'), ('HISTORY', 'NNP'), (':', ':'), (',', ','), ('Noncontributory', 'NNP'), ('above.', 'NN'), (',', ','), ('FAMILY', 'NNP'), ('HISTORY', 'NNP'), (':', ':'), (',', ','), ('Mother', 'NNP'), ('history', 'NN'), ('coronary', 'JJ'), ('artery', 'NN'), ('disease.', 'NN'), (',', ','), ('SOCIAL', 'NNP'), ('HISTORY', 'NNP'), (':', ':'), (',', ','), ('The', 'DT'), ('patient', 'NN'), ('married', 'VBD'), ('.', '.')]\n",
            "[('She', 'PRP'), ('uses', 'VBZ'), ('ethanol', 'RB'), (',', ','), ('tobacco', 'NN'), ('illicits', 'NNS'), ('.', '.')]\n",
            "[('She', 'PRP'), ('support', 'VBD'), ('family', 'NN'), ('unit.', 'NN'), (',', ','), ('MEDICATIONS', 'NNP'), (':', ':'), (',', ','), ('Augmentin', 'NNP'), (';', ':'), ('Detrol', 'NNP'), ('LA', 'NNP'), (';', ':'), ('lisinopril.', 'NN'), (',', ','), ('IMMUNIZATIONS', 'NNP'), (':', ':'), (',', ','), ('Immunizations', 'NNP'), ('date', 'NN'), ('influenza', 'NN'), (',', ','), ('negative', 'JJ'), ('Pneumovax.', 'NNP'), (',', ','), ('ALLERGIES', 'NNP'), (':', ':'), (',', ','), ('PENICILLIN.', 'NNP'), (',', ','), ('LABORATORY', 'NNP'), ('AT', 'NNP'), ('PRESENTATION', 'NNP'), (':', ':'), (',', ','), ('White', 'NNP'), ('blood', 'NN'), ('cell', 'NN'), ('count', 'NN'), ('11', 'CD'), (',', ','), ('hemoglobin', 'NN'), ('10.5', 'CD'), (',', ','), ('hematocrit', 'NN'), ('32.2', 'CD'), (',', ','), ('platelets', 'NNS'), ('175,000', 'CD'), ('.', '.')]\n",
            "[('Sodium', 'NN'), ('148', 'CD'), (',', ','), ('potassium', 'NN'), ('5.2', 'CD'), (',', ','), ('BUN', 'NNP'), ('30', 'CD'), (',', ','), ('creatinine', 'NN'), ('2.2', 'CD'), ('glucose', 'JJ'), ('216', 'CD'), ('.', '.')]\n",
            "[('PT', 'NNP'), ('22.4.', 'CD'), (',', ','), ('RADIOLOGIC', 'NNP'), ('DATA', 'NNP'), (':', ':'), (',', ','), ('Chest', 'NNP'), ('x-ray', 'NN'), ('revealed', 'VBD'), ('diffuse', 'NN'), ('pulmonary', 'JJ'), ('edema.', 'NN'), (',', ','), ('PHYSICAL', 'NNP'), ('EXAMINATION', 'NNP'), (':', ':'), (',VITAL', 'JJ'), ('SIGNS', 'NN'), (':', ':'), ('Blood', 'NNP'), ('pressure', 'NN'), ('97/52', 'CD'), (',', ','), ('pulse', 'RB'), ('79', 'CD'), (',', ','), ('respirations', 'NNS'), ('16', 'CD'), (',', ','), ('O2', 'NNP'), ('sat', 'VBD'), ('100', 'CD'), ('%', 'NN'), ('.', '.'), (',', ','), ('HEENT', 'NNP'), (':', ':'), ('The', 'DT'), ('patient', 'NN'), (\"'s\", 'POS'), ('pupils', 'NNS'), (',', ','), ('fixed', 'VBN'), ('dilated', 'VBN'), ('intubated', 'JJ'), ('monitor.', 'NN'), (',', ','), ('CHEST', 'NNP'), (':', ':'), ('Poor', 'NNP'), ('air', 'NN'), ('movement', 'NN'), ('bilateral', 'JJ'), ('bilateral', 'JJ'), ('rales.', 'NN'), (',', ','), ('CARDIOVASCULAR', 'NNP'), (':', ':'), ('Regular', 'JJ'), ('rate', 'NN'), ('rhythm.', 'NN'), (',', ','), ('ABDOMEN', 'NNP'), (':', ':'), ('The', 'DT'), ('abdomen', 'NNS'), ('obese', 'JJ'), (',', ','), ('nondistended', 'JJ'), ('nontender.', 'NN'), (',', ','), ('EXTREMITIES', 'NNP'), (':', ':'), ('Left', 'NNP'), ('diabetic', 'JJ'), ('foot', 'NN'), ('oozing', 'VBG'), ('pus', 'JJ'), ('drainage', 'NN'), ('foot.', 'NN'), (',', ','), ('GU', 'NNP'), (':', ':'), ('Foley', 'NNP'), ('catheter', 'NN'), ('place.', 'NN'), (',', ','), ('IMPRESSION', 'NNP'), ('AND', 'NNP'), ('PLAN', 'NN'), (':', ':'), (',1', 'NN'), ('.', '.')]\n",
            "[('Acute', 'NNP'), ('cardiac', 'JJ'), ('arrest', 'NN'), ('pulseless', 'JJ'), ('electrical', 'JJ'), ('activity', 'NN'), ('hypotensive', 'NN'), ('shock', 'NN'), ('respiratory', 'JJ'), ('failure', 'NN'), (':', ':'), ('Will', 'NNP'), ('continue', 'VBP'), ('ventilator', 'NN'), ('support', 'NN'), ('.', '.')]\n",
            "[('Will', 'MD'), ('rule', 'VB'), ('pulmonary', 'JJ'), ('embolus', 'NN'), (',', ','), ('rule', 'NN'), ('myocardial', 'JJ'), ('infarction', 'NN'), ('.', '.')]\n",
            "[('Continue', 'NNP'), ('pressors', 'NNS'), ('.', '.')]\n",
            "[('The', 'DT'), ('patient', 'NN'), ('currently', 'RB'), ('dopamine', 'VBZ'), (',', ','), ('Neo-Synephrine', 'JJ'), ('Levophed.,2', 'NNP'), ('.', '.')]\n",
            "[('Acute', 'NNP'), ('respiratory', 'NN'), ('distress', 'NN'), ('syndrome', 'NN'), (':', ':'), ('Will', 'NNP'), ('continue', 'VBP'), ('ventilatory', 'JJ'), ('support.,3', 'NN'), ('.', '.')]\n",
            "[('Questionable', 'JJ'), ('sepsis', 'NN'), (':', ':'), ('Will', 'NNP'), ('obtain', 'VB'), ('blood', 'NN'), ('cultures', 'NNS'), (',', ','), ('intravenous', 'JJ'), ('vancomycin', 'NN'), ('Rocephin', 'NNP'), ('given.,4', 'NN'), ('.', '.')]\n",
            "[('Hypotensive', 'JJ'), ('shock', 'NN'), (':', ':'), ('Will', 'NNP'), ('continue', 'VBP'), ('pressors', 'NNS'), ('.', '.')]\n",
            "[('Will', 'MD'), ('check', 'VB'), ('random', 'JJ'), ('cortisol', 'NN'), ('.', '.')]\n",
            "[('Hydrocortisone', 'NNP'), ('added.', 'NN'), (',', ','), ('Further', 'NNP'), ('inpatient', 'NN'), ('management', 'NN'), ('patient', 'NN'), ('provided', 'VBD'), ('Dr.', 'NNP'), ('R.', 'NNP'), ('The', 'DT'), ('patient', 'NN'), (\"'s\", 'POS'), ('status', 'NN'), ('discussed', 'VBD'), ('daughter', 'NN'), ('husband', 'NN'), ('.', '.')]\n",
            "[('The', 'DT'), ('husband', 'NN'), ('states', 'VBZ'), ('wife', 'NN'), ('ill', 'NN'), ('past', 'IN'), ('multiple', 'JJ'), ('admissions', 'NNS'), (',', ','), ('never', 'RB'), ('seen', 'VBN'), ('severely', 'RB'), ('ill', 'JJ'), ('event', 'NN'), ('.', '.')]\n",
            "[('He', 'PRP'), ('states', 'VBZ'), ('completely', 'RB'), ('breathing', 'VBG'), ('aware', 'JJ'), ('severity', 'NN'), ('illness', 'NN'), ('gravity', 'NN'), ('current', 'JJ'), ('prognosis', 'NN'), ('.', '.')]\n",
            "[('Will', 'MD'), ('obtain', 'VB'), ('assistance', 'NN'), ('cardiology', 'NN'), ('admission', 'NN'), ('continue', 'VBP'), ('pressors', 'NNS'), ('supportive', 'JJ'), ('therapy', 'NN'), ('.', '.')]\n",
            "[('The', 'DT'), ('family', 'NN'), ('make', 'VBP'), ('assessment', 'JJ'), ('final', 'JJ'), ('decision', 'NN'), ('concerning', 'VBG'), ('long-term', 'JJ'), ('management', 'NN'), ('24', 'CD'), ('hour', 'NN'), ('period', 'NN'), ('.', '.')]\n",
            "\n",
            "1-gram:  ['HISTORY', 'OF', 'PRESENT', 'ILLNESS', 'The', 'patient', 'is', 'a', '71-year-old', 'Caucasian', 'female', 'with', 'a', 'history', 'of', 'diabetes', 'osteoarthritis', 'atrial', 'fibrillation', 'hypertension', 'asthma', 'obstructive', 'sleep', 'apnea', 'on', 'CPAP', 'diabetic', 'foot', 'ulcer', 'anemia', 'and', 'left', 'lower', 'extremity', 'cellulitis', 'She', 'was', 'brought', 'in', 'by', 'the', 'EMS', 'service', 'to', 'Erlanger', 'emergency', 'department', 'with', 'pulseless', 'electrical', 'activity', 'Her', 'husband', 'states', 'that', 'he', 'was', 'at', 'home', 'with', 'his', 'wife', 'when', 'she', 'presented', 'to', 'him', 'complaining', 'of', 'fever', 'and', 'chills', 'She', 'became', 'acutely', 'unresponsive', 'She', 'was', 'noted', 'to', 'have', 'worsening', 'of', 'her', 'breathing', 'She', 'took', 'several', 'of', 'her', 'MDIs', 'and', 'then', 'was', 'placed', 'on', 'her', 'CPAP', 'He', 'went', 'to', 'notify', 'EMS', 'and', 'when', 'he', 'returned', 'she', 'was', 'found', 'to', 'not', 'be', 'breathing', 'He', 'stated', 'that', 'she', 'was', 'noted', 'to', 'have', 'no', 'breathing', 'in', 'excess', 'of', '10', 'minutes', 'He', 'states', 'that', 'the', 'EMS', 'system', 'arrived', 'at', 'the', 'home', 'and', 'she', 'was', 'found', 'not', 'breathing', 'The', 'patient', 'was', 'intubated', 'at', 'the', 'scene', 'and', 'upon', 'arrival', 'to', 'Erlanger', 'Medical', 'Center', 'she', 'was', 'found', 'to', 'have', 'pupils', 'fixed', 'and', 'dilated', 'She', 'was', 'seen', 'by', 'me', 'in', 'the', 'emergency', 'department', 'and', 'was', 'on', 'Neo-Synephrine', 'dopamine', 'with', 'a', 'blood', 'pressure', 'of', '97/22', 'with', 'a', 'rapid', 'heart', 'rate', 'and', 'again', 'in', 'an', 'unresponsive', 'state', 'REVIEW', 'OF', 'SYSTEMS', 'Review', 'of', 'systems', 'was', 'not', 'obtainable', 'PAST', 'MEDICAL', 'HISTORY', 'Diabetes', 'osteoarthritis', 'hypertension', 'asthma', 'atrial', 'fibrillation', 'diabetic', 'foot', 'ulcer', 'and', 'anemia', 'PAST', 'SURGICAL', 'HISTORY', 'Noncontributory', 'to', 'above', 'FAMILY', 'HISTORY', 'Mother', 'with', 'history', 'of', 'coronary', 'artery', 'disease', 'SOCIAL', 'HISTORY', 'The', 'patient', 'is', 'married', 'She', 'uses', 'no', 'ethanol', 'no', 'tobacco', 'and', 'no', 'illicits', 'She', 'has', 'a', 'very', 'support', 'family', 'unit', 'MEDICATIONS', 'Augmentin', 'Detrol', 'LA', 'lisinopril', 'IMMUNIZATIONS', 'Immunizations', 'were', 'up', 'to', 'date', 'for', 'influenza', 'negative', 'for', 'Pneumovax', 'ALLERGIES', 'PENICILLIN', 'LABORATORY', 'AT', 'PRESENTATION', 'White', 'blood', 'cell', 'count', '11', 'hemoglobin', '10.5', 'hematocrit', '32.2', 'platelets', '175,000', 'Sodium', '148', 'potassium', '5.2', 'BUN', '30', 'creatinine', '2.2', 'and', 'glucose', '216', 'PT', 'was', '22.4', 'RADIOLOGIC', 'DATA', 'Chest', 'x-ray', 'revealed', 'a', 'diffuse', 'pulmonary', 'edema', 'PHYSICAL', 'EXAMINATION', 'VITAL', 'SIGNS', 'Blood', 'pressure', '97/52', 'pulse', 'of', '79', 'respirations', '16', 'O2', 'sat', '100', 'HEENT', 'The', 'patient', \"'s\", 'pupils', 'were', 'again', 'fixed', 'and', 'dilated', 'and', 'intubated', 'on', 'the', 'monitor', 'CHEST', 'Poor', 'air', 'movement', 'bilateral', 'with', 'bilateral', 'rales', 'CARDIOVASCULAR', 'Regular', 'rate', 'and', 'rhythm', 'ABDOMEN', 'The', 'abdomen', 'was', 'obese', 'nondistended', 'and', 'nontender', 'EXTREMITIES', 'Left', 'diabetic', 'foot', 'had', 'oozing', 'pus', 'drainage', 'from', 'the', 'foot', 'GU', 'Foley', 'catheter', 'was', 'in', 'place', 'IMPRESSION', 'AND', 'PLAN', '1', 'Acute', 'cardiac', 'arrest', 'with', 'pulseless', 'electrical', 'activity', 'with', 'hypotensive', 'shock', 'and', 'respiratory', 'failure', 'Will', 'continue', 'ventilator', 'support', 'Will', 'rule', 'out', 'pulmonary', 'embolus', 'rule', 'out', 'myocardial', 'infarction', 'Continue', 'pressors', 'The', 'patient', 'is', 'currently', 'on', 'dopamine', 'Neo-Synephrine', 'and', 'Levophed.,2', 'Acute', 'respiratory', 'distress', 'syndrome', 'Will', 'continue', 'ventilatory', 'support.,3', 'Questionable', 'sepsis', 'Will', 'obtain', 'blood', 'cultures', 'intravenous', 'vancomycin', 'and', 'Rocephin', 'given.,4', 'Hypotensive', 'shock', 'Will', 'continue', 'pressors', 'Will', 'check', 'random', 'cortisol', 'Hydrocortisone', 'was', 'added', 'Further', 'inpatient', 'management', 'for', 'this', 'patient', 'will', 'be', 'provided', 'by', 'Dr', 'R', 'The', 'patient', \"'s\", 'status', 'was', 'discussed', 'with', 'her', 'daughter', 'and', 'her', 'husband', 'The', 'husband', 'states', 'that', 'his', 'wife', 'has', 'been', 'very', 'ill', 'in', 'the', 'past', 'with', 'multiple', 'admissions', 'but', 'he', 'had', 'never', 'seen', 'her', 'as', 'severely', 'ill', 'as', 'with', 'this', 'event', 'He', 'states', 'that', 'she', 'completely', 'was', 'not', 'breathing', 'at', 'all', 'and', 'he', 'is', 'aware', 'of', 'the', 'severity', 'of', 'her', 'illness', 'and', 'the', 'gravity', 'of', 'her', 'current', 'prognosis', 'Will', 'obtain', 'the', 'assistance', 'with', 'cardiology', 'with', 'this', 'admission', 'and', 'will', 'continue', 'pressors', 'and', 'supportive', 'therapy', 'The', 'family', 'will', 'make', 'an', 'assessment', 'and', 'final', 'decision', 'concerning', 'her', 'long-term', 'management', 'after', 'a', '24', 'hour', 'period']\n",
            "2-gram:  ['HISTORY OF', 'OF PRESENT', 'PRESENT ILLNESS', 'ILLNESS The', 'The patient', 'patient is', 'is a', 'a 71-year-old', '71-year-old Caucasian', 'Caucasian female', 'female with', 'with a', 'a history', 'history of', 'of diabetes', 'diabetes osteoarthritis', 'osteoarthritis atrial', 'atrial fibrillation', 'fibrillation hypertension', 'hypertension asthma', 'asthma obstructive', 'obstructive sleep', 'sleep apnea', 'apnea on', 'on CPAP', 'CPAP diabetic', 'diabetic foot', 'foot ulcer', 'ulcer anemia', 'anemia and', 'and left', 'left lower', 'lower extremity', 'extremity cellulitis', 'cellulitis She', 'She was', 'was brought', 'brought in', 'in by', 'by the', 'the EMS', 'EMS service', 'service to', 'to Erlanger', 'Erlanger emergency', 'emergency department', 'department with', 'with pulseless', 'pulseless electrical', 'electrical activity', 'activity Her', 'Her husband', 'husband states', 'states that', 'that he', 'he was', 'was at', 'at home', 'home with', 'with his', 'his wife', 'wife when', 'when she', 'she presented', 'presented to', 'to him', 'him complaining', 'complaining of', 'of fever', 'fever and', 'and chills', 'chills She', 'She became', 'became acutely', 'acutely unresponsive', 'unresponsive She', 'She was', 'was noted', 'noted to', 'to have', 'have worsening', 'worsening of', 'of her', 'her breathing', 'breathing She', 'She took', 'took several', 'several of', 'of her', 'her MDIs', 'MDIs and', 'and then', 'then was', 'was placed', 'placed on', 'on her', 'her CPAP', 'CPAP He', 'He went', 'went to', 'to notify', 'notify EMS', 'EMS and', 'and when', 'when he', 'he returned', 'returned she', 'she was', 'was found', 'found to', 'to not', 'not be', 'be breathing', 'breathing He', 'He stated', 'stated that', 'that she', 'she was', 'was noted', 'noted to', 'to have', 'have no', 'no breathing', 'breathing in', 'in excess', 'excess of', 'of 10', '10 minutes', 'minutes He', 'He states', 'states that', 'that the', 'the EMS', 'EMS system', 'system arrived', 'arrived at', 'at the', 'the home', 'home and', 'and she', 'she was', 'was found', 'found not', 'not breathing', 'breathing The', 'The patient', 'patient was', 'was intubated', 'intubated at', 'at the', 'the scene', 'scene and', 'and upon', 'upon arrival', 'arrival to', 'to Erlanger', 'Erlanger Medical', 'Medical Center', 'Center she', 'she was', 'was found', 'found to', 'to have', 'have pupils', 'pupils fixed', 'fixed and', 'and dilated', 'dilated She', 'She was', 'was seen', 'seen by', 'by me', 'me in', 'in the', 'the emergency', 'emergency department', 'department and', 'and was', 'was on', 'on Neo-Synephrine', 'Neo-Synephrine dopamine', 'dopamine with', 'with a', 'a blood', 'blood pressure', 'pressure of', 'of 97/22', '97/22 with', 'with a', 'a rapid', 'rapid heart', 'heart rate', 'rate and', 'and again', 'again in', 'in an', 'an unresponsive', 'unresponsive state', 'state REVIEW', 'REVIEW OF', 'OF SYSTEMS', 'SYSTEMS Review', 'Review of', 'of systems', 'systems was', 'was not', 'not obtainable', 'obtainable PAST', 'PAST MEDICAL', 'MEDICAL HISTORY', 'HISTORY Diabetes', 'Diabetes osteoarthritis', 'osteoarthritis hypertension', 'hypertension asthma', 'asthma atrial', 'atrial fibrillation', 'fibrillation diabetic', 'diabetic foot', 'foot ulcer', 'ulcer and', 'and anemia', 'anemia PAST', 'PAST SURGICAL', 'SURGICAL HISTORY', 'HISTORY Noncontributory', 'Noncontributory to', 'to above', 'above FAMILY', 'FAMILY HISTORY', 'HISTORY Mother', 'Mother with', 'with history', 'history of', 'of coronary', 'coronary artery', 'artery disease', 'disease SOCIAL', 'SOCIAL HISTORY', 'HISTORY The', 'The patient', 'patient is', 'is married', 'married She', 'She uses', 'uses no', 'no ethanol', 'ethanol no', 'no tobacco', 'tobacco and', 'and no', 'no illicits', 'illicits She', 'She has', 'has a', 'a very', 'very support', 'support family', 'family unit', 'unit MEDICATIONS', 'MEDICATIONS Augmentin', 'Augmentin Detrol', 'Detrol LA', 'LA lisinopril', 'lisinopril IMMUNIZATIONS', 'IMMUNIZATIONS Immunizations', 'Immunizations were', 'were up', 'up to', 'to date', 'date for', 'for influenza', 'influenza negative', 'negative for', 'for Pneumovax', 'Pneumovax ALLERGIES', 'ALLERGIES PENICILLIN', 'PENICILLIN LABORATORY', 'LABORATORY AT', 'AT PRESENTATION', 'PRESENTATION White', 'White blood', 'blood cell', 'cell count', 'count 11', '11 hemoglobin', 'hemoglobin 10.5', '10.5 hematocrit', 'hematocrit 32.2', '32.2 platelets', 'platelets 175,000', '175,000 Sodium', 'Sodium 148', '148 potassium', 'potassium 5.2', '5.2 BUN', 'BUN 30', '30 creatinine', 'creatinine 2.2', '2.2 and', 'and glucose', 'glucose 216', '216 PT', 'PT was', 'was 22.4', '22.4 RADIOLOGIC', 'RADIOLOGIC DATA', 'DATA Chest', 'Chest x-ray', 'x-ray revealed', 'revealed a', 'a diffuse', 'diffuse pulmonary', 'pulmonary edema', 'edema PHYSICAL', 'PHYSICAL EXAMINATION', 'EXAMINATION VITAL', 'VITAL SIGNS', 'SIGNS Blood', 'Blood pressure', 'pressure 97/52', '97/52 pulse', 'pulse of', 'of 79', '79 respirations', 'respirations 16', '16 O2', 'O2 sat', 'sat 100', '100 HEENT', 'HEENT The', 'The patient', \"patient 's\", \"'s pupils\", 'pupils were', 'were again', 'again fixed', 'fixed and', 'and dilated', 'dilated and', 'and intubated', 'intubated on', 'on the', 'the monitor', 'monitor CHEST', 'CHEST Poor', 'Poor air', 'air movement', 'movement bilateral', 'bilateral with', 'with bilateral', 'bilateral rales', 'rales CARDIOVASCULAR', 'CARDIOVASCULAR Regular', 'Regular rate', 'rate and', 'and rhythm', 'rhythm ABDOMEN', 'ABDOMEN The', 'The abdomen', 'abdomen was', 'was obese', 'obese nondistended', 'nondistended and', 'and nontender', 'nontender EXTREMITIES', 'EXTREMITIES Left', 'Left diabetic', 'diabetic foot', 'foot had', 'had oozing', 'oozing pus', 'pus drainage', 'drainage from', 'from the', 'the foot', 'foot GU', 'GU Foley', 'Foley catheter', 'catheter was', 'was in', 'in place', 'place IMPRESSION', 'IMPRESSION AND', 'AND PLAN', 'PLAN 1', '1 Acute', 'Acute cardiac', 'cardiac arrest', 'arrest with', 'with pulseless', 'pulseless electrical', 'electrical activity', 'activity with', 'with hypotensive', 'hypotensive shock', 'shock and', 'and respiratory', 'respiratory failure', 'failure Will', 'Will continue', 'continue ventilator', 'ventilator support', 'support Will', 'Will rule', 'rule out', 'out pulmonary', 'pulmonary embolus', 'embolus rule', 'rule out', 'out myocardial', 'myocardial infarction', 'infarction Continue', 'Continue pressors', 'pressors The', 'The patient', 'patient is', 'is currently', 'currently on', 'on dopamine', 'dopamine Neo-Synephrine', 'Neo-Synephrine and', 'and Levophed.,2', 'Levophed.,2 Acute', 'Acute respiratory', 'respiratory distress', 'distress syndrome', 'syndrome Will', 'Will continue', 'continue ventilatory', 'ventilatory support.,3', 'support.,3 Questionable', 'Questionable sepsis', 'sepsis Will', 'Will obtain', 'obtain blood', 'blood cultures', 'cultures intravenous', 'intravenous vancomycin', 'vancomycin and', 'and Rocephin', 'Rocephin given.,4', 'given.,4 Hypotensive', 'Hypotensive shock', 'shock Will', 'Will continue', 'continue pressors', 'pressors Will', 'Will check', 'check random', 'random cortisol', 'cortisol Hydrocortisone', 'Hydrocortisone was', 'was added', 'added Further', 'Further inpatient', 'inpatient management', 'management for', 'for this', 'this patient', 'patient will', 'will be', 'be provided', 'provided by', 'by Dr', 'Dr R', 'R The', 'The patient', \"patient 's\", \"'s status\", 'status was', 'was discussed', 'discussed with', 'with her', 'her daughter', 'daughter and', 'and her', 'her husband', 'husband The', 'The husband', 'husband states', 'states that', 'that his', 'his wife', 'wife has', 'has been', 'been very', 'very ill', 'ill in', 'in the', 'the past', 'past with', 'with multiple', 'multiple admissions', 'admissions but', 'but he', 'he had', 'had never', 'never seen', 'seen her', 'her as', 'as severely', 'severely ill', 'ill as', 'as with', 'with this', 'this event', 'event He', 'He states', 'states that', 'that she', 'she completely', 'completely was', 'was not', 'not breathing', 'breathing at', 'at all', 'all and', 'and he', 'he is', 'is aware', 'aware of', 'of the', 'the severity', 'severity of', 'of her', 'her illness', 'illness and', 'and the', 'the gravity', 'gravity of', 'of her', 'her current', 'current prognosis', 'prognosis Will', 'Will obtain', 'obtain the', 'the assistance', 'assistance with', 'with cardiology', 'cardiology with', 'with this', 'this admission', 'admission and', 'and will', 'will continue', 'continue pressors', 'pressors and', 'and supportive', 'supportive therapy', 'therapy The', 'The family', 'family will', 'will make', 'make an', 'an assessment', 'assessment and', 'and final', 'final decision', 'decision concerning', 'concerning her', 'her long-term', 'long-term management', 'management after', 'after a', 'a 24', '24 hour', 'hour period']\n"
          ],
          "name": "stdout"
        }
      ]
    },
    {
      "cell_type": "code",
      "metadata": {
        "colab": {
          "base_uri": "https://localhost:8080/"
        },
        "id": "uxa35gK61NCO",
        "outputId": "5dd33ce1-a1a6-40ce-cd82-0849f66589f2"
      },
      "source": [
        "pat_num = int(input('Enter the patient number for which you want the readmission probability and summary of the issue: '))\n",
        "print(\"\")\n",
        "print(\"The probability of readmitting patient number\", pat_num, \"is -->\", y_train_preds[pat_num-1])\n",
        "print(\"\")\n",
        "\n",
        "from sumy.summarizers.lsa import LsaSummarizer\n",
        "original_text = new_df[pat_num]\n",
        "\n",
        "from sumy.nlp.tokenizers import Tokenizer\n",
        "from sumy.parsers.plaintext import PlaintextParser\n",
        "parser=PlaintextParser.from_string(original_text,Tokenizer('english'))\n",
        "\n",
        "lsa_summarizer=LsaSummarizer()\n",
        "lsa_summary= lsa_summarizer(parser.document,1)\n",
        "\n",
        "# Printing the summary\n",
        "for sentence in lsa_summary:\n",
        "    print(\"The summary of patient number\",pat_num,\"is -->\",sentence)"
      ],
      "execution_count": null,
      "outputs": [
        {
          "output_type": "stream",
          "text": [
            "Enter the patient number for which you want the readmission probability and summary of the issue: 111\n",
            "\n",
            "The probability of readmitting patient number 111 is --> 0.5091727115353961\n",
            "\n",
            "The summary of patient number 111 is --> The left anterior descending has 30 to 40% narrowing with tortuosity in its proximal portion, patent first septal perforator branch.\n"
          ],
          "name": "stdout"
        }
      ]
    },
    {
      "cell_type": "code",
      "metadata": {
        "id": "b80a0HDN4cRd"
      },
      "source": [
        ""
      ],
      "execution_count": null,
      "outputs": []
    }
  ]
}